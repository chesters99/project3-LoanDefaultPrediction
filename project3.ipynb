{
 "cells": [
  {
   "cell_type": "code",
   "execution_count": 1,
   "metadata": {},
   "outputs": [],
   "source": [
    "import glob\n",
    "\n",
    "import pandas as pd\n",
    "import numpy as np\n",
    "import seaborn as sns\n",
    "import matplotlib.pyplot as plt\n",
    "%matplotlib inline\n",
    "\n",
    "import xgboost as xgb\n",
    "from scipy.stats import skew\n",
    "\n",
    "np.warnings.filterwarnings('ignore', category=DeprecationWarning)\n",
    "from sklearn.model_selection import train_test_split\n",
    "from sklearn.decomposition import PCA\n",
    "from sklearn.model_selection import cross_val_score, GridSearchCV, RandomizedSearchCV\n",
    "from sklearn.neural_network import MLPClassifier\n",
    "from sklearn.neighbors import KNeighborsClassifier\n",
    "from sklearn.svm import SVC, LinearSVC\n",
    "from sklearn.gaussian_process import GaussianProcessClassifier\n",
    "from sklearn.gaussian_process.kernels import RBF\n",
    "from sklearn.tree import DecisionTreeClassifier\n",
    "from sklearn.ensemble import RandomForestClassifier, AdaBoostClassifier, GradientBoostingClassifier\n",
    "from sklearn.naive_bayes import GaussianNB\n",
    "from sklearn.linear_model import LogisticRegression\n",
    "from sklearn.discriminant_analysis import QuadraticDiscriminantAnalysis, LinearDiscriminantAnalysis\n",
    "\n",
    "# set Jupyter to display ALL output from a cell (not just last output)\n",
    "from IPython.core.interactiveshell import InteractiveShell\n",
    "InteractiveShell.ast_node_interactivity = \"all\" \n",
    "\n",
    "# set pandas and numpy options to make print format nicer\n",
    "pd.set_option(\"display.width\",100)\n",
    "pd.set_option(\"display.max_columns\",1000)\n",
    "pd.set_option('display.max_colwidth', 80)\n",
    "pd.set_option('display.max_rows', 500)\n",
    "np.set_printoptions(linewidth=120, threshold=5000, edgeitems=50, suppress=True)\n",
    "\n",
    "seed = 42"
   ]
  },
  {
   "cell_type": "markdown",
   "metadata": {},
   "source": [
    "## Read Loans csv and Create test/train csv files"
   ]
  },
  {
   "cell_type": "code",
   "execution_count": 2,
   "metadata": {},
   "outputs": [
    {
     "name": "stdout",
     "output_type": "stream",
     "text": [
      "Reading: loan_stat542.csv into loans dataframe...\n",
      "Loans dataframe: (844006, 30)\n",
      "ids dataframe: (253200, 3)\n",
      "Fold 0 (590806, 30) (253200, 29) (253200, 2)\n",
      "Fold 1 (590806, 30) (253200, 29) (253200, 2)\n",
      "Fold 2 (590806, 30) (253200, 29) (253200, 2)\n",
      "Writing train, test, labels csv files...\n",
      "Done!\n",
      "CPU times: user 3.46 s, sys: 401 ms, total: 3.86 s\n",
      "Wall time: 3.87 s\n"
     ]
    }
   ],
   "source": [
    "%%time\n",
    "print('Reading: loan_stat542.csv into loans dataframe...')\n",
    "\n",
    "loans = pd.read_csv('loan_stat542.csv')\n",
    "print('Loans dataframe:', loans.shape)\n",
    "\n",
    "test_ids = pd.read_csv('Project3_test_id.csv', dtype={'test1':int,'test2':int, 'test3':int,})\n",
    "print('ids dataframe:', test_ids.shape)\n",
    "\n",
    "trains = []\n",
    "tests = []\n",
    "labels = []\n",
    "for i, col in enumerate(test_ids.columns):\n",
    "    trains.append(loans.loc[~loans.id.isin(test_ids[col]),:])\n",
    "    tests.append( loans.loc[ loans.id.isin(test_ids[col]), loans.columns!='loan_status'])\n",
    "    labels.append(loans.loc[ loans.id.isin(test_ids[col]), ['id','loan_status']])\n",
    "    labels[i][\"y\"] = (labels[i].loan_status != 'Fully Paid').astype(int)\n",
    "    labels[i].drop('loan_status', axis=1, inplace=True)\n",
    "    print('Fold', i, trains[i].shape, tests[i].shape, labels[i].shape)\n",
    "\n",
    "print('Writing train, test, labels csv files...')\n",
    "# fold=0\n",
    "# _ = trains[fold].to_csv('train.csv', index=False)\n",
    "# _ = tests [fold].to_csv('test.csv',  index=False)\n",
    "# _ = labels[fold].to_csv('label.csv', index=False)\n",
    "print('Done!')"
   ]
  },
  {
   "cell_type": "markdown",
   "metadata": {},
   "source": [
    "## Read and process train and test dataframes"
   ]
  },
  {
   "cell_type": "code",
   "execution_count": 3,
   "metadata": {},
   "outputs": [],
   "source": [
    "def process(data):        \n",
    "    data['emp_length'] = data.emp_length.fillna('Unknown').str.replace('<','LT')\n",
    "    data['dti'] = data.dti.fillna(0)\n",
    "    data['revol_util'] = data.revol_util.fillna(0)\n",
    "    data['mort_acc'] = data.mort_acc.fillna(0)\n",
    "    data['pub_rec_bankruptcies'] = data.pub_rec_bankruptcies.fillna(0)\n",
    "    temp = pd.to_datetime(data.earliest_cr_line)\n",
    "    data['earliest_cr_line'] = temp.dt.year*12 - 1950*12 + temp.dt.month\n",
    "    data.drop(['emp_title','title','zip_code','grade','fico_range_high'], axis=1, inplace=True)\n",
    "    return data\n",
    "\n",
    "def logloss(y, p):\n",
    "    loglosses = np.where(y==1, -np.log(p+1e-15), -np.log(1-p+1e-15))\n",
    "    return np.mean(loglosses)\n",
    "\n",
    "def prep_train_test(train, test):    \n",
    "    train = process(train)\n",
    "    X_train = train.drop(['loan_status'], axis=1)\n",
    "    X_train = pd.get_dummies(X_train) # create dataframe with dummy variables replacing categoricals\n",
    "    X_train = X_train.reindex(sorted(X_train.columns), axis=1) # sort columns to be in same sequence as test\n",
    "    y_train = (train.loan_status!='Fully Paid').astype(int)\n",
    "\n",
    "    test = process(test)\n",
    "    X_test = pd.get_dummies(test) # create dataframe with dummy variables replacing categoricals\n",
    "\n",
    "    all_columns = X_train.columns.union(X_test.columns) # add columns to test that are in train but not test\n",
    "    X_test = X_test.reindex(columns=all_columns).fillna(0)\n",
    "    X_test = X_test.reindex(sorted(X_train.columns), axis=1) # sort columns to be in same sequence at train\n",
    "\n",
    "    return X_train, y_train, X_test"
   ]
  },
  {
   "cell_type": "code",
   "execution_count": 26,
   "metadata": {
    "scrolled": false
   },
   "outputs": [
    {
     "name": "stdout",
     "output_type": "stream",
     "text": [
      "\n",
      "LogisticRegression         Fold=0, Runime=    3.42 seconds, logloss= 0.45552\n",
      "GradientBoostingClassifier Fold=0, Runime=  796.09 seconds, logloss= 0.44001\n",
      "XGBClassifier              Fold=0, Runime=  677.12 seconds, logloss= 0.43903\n",
      "\n",
      "LogisticRegression         Fold=1, Runime=    3.95 seconds, logloss= 0.45645\n",
      "GradientBoostingClassifier Fold=1, Runime= 1232.59 seconds, logloss= 0.44165\n",
      "XGBClassifier              Fold=1, Runime=  832.71 seconds, logloss= 0.44060\n",
      "\n",
      "LogisticRegression         Fold=2, Runime=    3.33 seconds, logloss= 0.45575\n",
      "GradientBoostingClassifier Fold=2, Runime=  795.00 seconds, logloss= 0.44041\n",
      "XGBClassifier              Fold=2, Runime=  573.71 seconds, logloss= 0.43956\n",
      "\n",
      "SUMMARY:\n",
      "LogisticRegression         mean logloss= 0.45591\n",
      "GradientBoostingClassifier mean logloss= 0.44069\n",
      "XGBClassifier              mean logloss= 0.43973\n",
      "CPU times: user 4h 14min 55s, sys: 1min 5s, total: 4h 16min\n",
      "Wall time: 1h 22min 49s\n"
     ]
    }
   ],
   "source": [
    "%%time \n",
    "import time\n",
    "seed=42\n",
    "models = [\n",
    "    LogisticRegression(penalty='l1',C=1, random_state=seed),\n",
    "    \n",
    "#     GradientBoostingClassifier(max_features='sqrt', learning_rate=0.055, n_estimators=780, max_depth=7, \n",
    "#                                min_samples_leaf=2, subsample=0.9, min_samples_split=4,\n",
    "#                                min_weight_fraction_leaf=0, random_state=seed),\n",
    "    \n",
    "    xgb.XGBClassifier(learning_rate=0.037, n_estimators=860, min_child_weight=8, max_depth=7, gamma=0.3,\n",
    "                       subsample=0.52, colsample_bytree=0.92, reg_lambda=0.67, reg_alpha=0.03,  \n",
    "                       objective= 'binary:logistic', n_jobs=-1, random_state=seed, eval_metric='logloss'),\n",
    "]\n",
    "    \n",
    "num_models, num_folds = len(models), len(test_ids.columns)\n",
    "errors = np.zeros([num_models, num_folds])\n",
    "\n",
    "for fold in range(num_folds):\n",
    "    np.random.seed(seed=seed)\n",
    "    train = trains[fold].copy()\n",
    "    test  = tests [fold].copy()\n",
    "    label = labels[fold].copy()\n",
    "    fraction = 1\n",
    "    if fraction < 1:\n",
    "        train = train.sample(frac=fraction, random_state=seed)\n",
    "        test  =  test.sample(frac=fraction*4, random_state=seed)\n",
    "    print()\n",
    "    X_train, y_train, X_test = prep_train_test(train, test)\n",
    "#     print(X_train.shape, y_train.shape, X_test.shape, y_test.shape)\n",
    "    \n",
    "    for i, model in enumerate(models):\n",
    "        start_time = time.time()\n",
    "        _ = model.fit(X_train, y_train)\n",
    "        probs = model.predict_proba(X_test)[:,1]\n",
    "        y_test = pd.merge(tests[fold][['id']], label, how='left', on='id')\n",
    "        errors[i, fold] = logloss(y_test.y, probs)\n",
    "        print('{:26.26} Fold={}, Runime={:8.2f} seconds, logloss={:8.5f}'.format(\n",
    "            type(model).__name__, fold, round(time.time()-start_time,2), errors[i,fold]))\n",
    "#         df = pd.DataFrame({'id': test.id, 'prob': probs.round(5)})\n",
    "#         df.to_csv('mysubmission'+str(i+1)+'.txt', index=False)\n",
    "#         print('Created mysubmission'+str(i+1)+'.txt, rows=', df.shape[0]) \n",
    "\n",
    "print(\"\\nSUMMARY:\")\n",
    "for i, m in enumerate(models):\n",
    "    print('{:26.26} mean logloss={:8.5f}'.format(type(m).__name__, errors[i,:].mean()))"
   ]
  },
  {
   "cell_type": "code",
   "execution_count": null,
   "metadata": {},
   "outputs": [],
   "source": []
  },
  {
   "cell_type": "markdown",
   "metadata": {},
   "source": [
    "## Model Tuning with skopt"
   ]
  },
  {
   "cell_type": "code",
   "execution_count": 17,
   "metadata": {},
   "outputs": [],
   "source": [
    "from skopt import gp_minimize, gbrt_minimize\n",
    "from skopt.plots import plot_convergence\n",
    "import datetime, warnings\n",
    "\n",
    "def objective(values):    \n",
    "    index = str(values)\n",
    "    if index in cache:\n",
    "        print('GET FROM CACHE:', index, round(cache[index],4))\n",
    "        return cache[index]\n",
    "    if model_type == 'LogisticRegression':\n",
    "        params = {'penalty': values[0], 'C': values[1],}\n",
    "        model = LogisticRegression(**params, random_state=seed, n_jobs=-1)\n",
    "        \n",
    "#     if model_type == 'RandomForestClassifier':\n",
    "#         params = {'n_estimators': values[0], 'max_features': values[1], 'max_depth': values[2],}\n",
    "#         model = RandomForestClassifier(**params, n_jobs=-1)\n",
    "    \n",
    "    if model_type == 'GradientBoostingClassifier':\n",
    "        params = {'learning_rate': values[0], 'n_estimators': values[1], 'max_depth': values[2],\n",
    "                  'min_samples_split': values[3], 'min_samples_leaf': values[4], \n",
    "                  'min_weight_fraction_leaf' : values[5], 'subsample': values[6], 'max_features': values[7] }\n",
    "        model = GradientBoostingClassifier(**params, random_state=seed)\n",
    "    \n",
    "    if model_type == 'XGBClassifier':\n",
    "        params = {'learning_rate': values[0], 'n_estimators': int(values[1]), 'min_child_weight': int(values[2]),\n",
    "                  'max_depth': int(values[3]), 'gamma': values[4], 'subsample': values[5],\n",
    "                  'colsample_bytree': values[6], 'lambda': values[7], 'alpha': values[8], 'eval_metric':'logloss'}\n",
    "        model = xgb.XGBClassifier(**params, random_state=seed, nthread=-1, n_jobs=-1,silent=1)\n",
    "        \n",
    "    print(datetime.datetime.now().time().replace(microsecond=0), ', Params',params) \n",
    "#     scores = -cross_val_score(model, X_train, y_train, scoring=\"neg_log_loss\", cv=5, n_jobs=-1)\n",
    "    _ = model.fit(X_train, y_train)\n",
    "    probs = model.predict_proba(X_test)[:,1]\n",
    "    y_test = pd.merge(test[['id']], label, how='left', on='id')\n",
    "\n",
    "    cache[index] = np.mean( logloss(y_test.y, probs) )\n",
    "    return cache[index]"
   ]
  },
  {
   "cell_type": "code",
   "execution_count": null,
   "metadata": {
    "scrolled": true
   },
   "outputs": [],
   "source": [
    "# %%time\n",
    "import warnings\n",
    "np.random.seed(seed)\n",
    "warnings.filterwarnings(\"ignore\", category=UserWarning) # turn off already evaluated errors\n",
    "params={'LogisticRegression': [ \n",
    "                ['l1',],\n",
    "                (1e-1,1e+1,'uniform'),\n",
    "                ],\n",
    "        'GradientBoostingClassifier': [ \n",
    "                (0.04, 0.10, 'uniform'),     # learning rate\n",
    "                (500, 900),                  # n_estimators\n",
    "                (3, 7),                      # max_depth   \n",
    "                (2, 5),                      # min_samples_split \n",
    "                (2, 5),                      # min_samples_leaf \n",
    "                (0, 0.3),                    # min_weight_fraction_leaf \n",
    "                (0.8, 1.0,'uniform'),        # subsample \n",
    "                ('sqrt',),                   # max_features \n",
    "                ],\n",
    "        'XGBClassifier': [\n",
    "                (0.01, 0.05, 'uniform'),    # learning_rate 0.05, 0.3,\n",
    "                (300, 700),                 # n_estimators\n",
    "                (5, 9),                     # min_child_weight \n",
    "                (4, 8),                     # max_depth 3-10\n",
    "                (0, 0.5,   'uniform'),      # gamma 0-0.4\n",
    "                (0.4, 1.0, 'uniform'),      # subsample 0.5 - 0.99\n",
    "                (0.8, 1.0, 'uniform'),      # colsample_bytree 0.5 - 0.99\n",
    "                (0.8, 1.0, 'uniform'),      # reg_lambda\n",
    "                (0.0, 0.5, 'uniform'),      # reg_alpha\n",
    "                ],}\n",
    "\n",
    "train = trains[0].copy()\n",
    "test = tests[0].copy()\n",
    "label = labels[0].copy()\n",
    "fraction = 1\n",
    "if fraction < 1:\n",
    "    train = train.sample(frac=fraction, random_state=seed)\n",
    "    test  = test.sample(frac=fraction, random_state=seed)\n",
    "print(train.shape)\n",
    "X_train, y_train, X_test = prep_train_test(train, test)\n",
    "print(X_train.shape, y_train.shape, X_test.shape) \n",
    "\n",
    "model_types = params.keys()\n",
    "model_types = ['GradientBoostingClassifier']\n",
    "for model_type in model_types:\n",
    "    cache = {}\n",
    "    space = params[model_type]\n",
    "    result = gbrt_minimize(objective,space,n_random_starts=15, n_calls=300, random_state=seed,verbose=True,n_jobs=-1)\n",
    "    print('\\n', model_type, ', Best Params=', result.x, ' Best Score=', round(result.fun,6),'\\n')\n",
    "    _ = plt.figure(figsize=(15,8))\n",
    "    _ = plot_convergence(result, yscale='log')\n",
    "\n",
    "warnings.filterwarnings(\"default\", category=UserWarning) # turn on already evaluated errors"
   ]
  },
  {
   "cell_type": "code",
   "execution_count": null,
   "metadata": {},
   "outputs": [],
   "source": []
  },
  {
   "cell_type": "markdown",
   "metadata": {},
   "source": [
    "### GBM best results - sorted"
   ]
  },
  {
   "cell_type": "code",
   "execution_count": null,
   "metadata": {
    "scrolled": true
   },
   "outputs": [],
   "source": [
    "sorted_d = sorted(cache.items(), key=lambda x: x[1])\n",
    "temp = []\n",
    "for i in range(len(sorted_d)):\n",
    "    temp.append((sorted_d[i][0], round(sorted_d[i][1],5)))\n",
    "    print('{} {}'.format(round(sorted_d[i][1],5), sorted_d[i][0]))"
   ]
  },
  {
   "cell_type": "markdown",
   "metadata": {},
   "source": [
    "### XGB best results - sorted"
   ]
  },
  {
   "cell_type": "code",
   "execution_count": null,
   "metadata": {},
   "outputs": [],
   "source": [
    "sorted_d = sorted(cache.items(), key=lambda x: x[1])\n",
    "temp = []\n",
    "for i in range(len(sorted_d)):\n",
    "    temp.append((sorted_d[i][0], round(sorted_d[i][1],5)))\n",
    "    print('{} {}'.format(round(sorted_d[i][1],5), sorted_d[i][0]))"
   ]
  },
  {
   "cell_type": "code",
   "execution_count": null,
   "metadata": {},
   "outputs": [],
   "source": []
  },
  {
   "cell_type": "markdown",
   "metadata": {},
   "source": [
    "## Tune XGBoost Model manually with CV "
   ]
  },
  {
   "cell_type": "code",
   "execution_count": null,
   "metadata": {},
   "outputs": [],
   "source": []
  },
  {
   "cell_type": "code",
   "execution_count": 75,
   "metadata": {},
   "outputs": [
    {
     "name": "stdout",
     "output_type": "stream",
     "text": [
      "Fitting 10 folds for each of 1 candidates, totalling 10 fits\n"
     ]
    },
    {
     "name": "stderr",
     "output_type": "stream",
     "text": [
      "[Parallel(n_jobs=-1)]: Done   4 out of  10 | elapsed:    9.8s remaining:   14.8s\n",
      "[Parallel(n_jobs=-1)]: Done   7 out of  10 | elapsed:   11.0s remaining:    4.7s\n",
      "[Parallel(n_jobs=-1)]: Done  10 out of  10 | elapsed:   15.3s remaining:    0.0s\n",
      "[Parallel(n_jobs=-1)]: Done  10 out of  10 | elapsed:   15.3s finished\n"
     ]
    },
    {
     "name": "stdout",
     "output_type": "stream",
     "text": [
      "XGBClassifier(base_score=0.5, booster='gbtree', colsample_bylevel=1,\n",
      "       colsample_bytree=0.75, gamma=0.2, learning_rate=0.05,\n",
      "       max_delta_step=0, max_depth=4, min_child_weight=5, missing=None,\n",
      "       n_estimators=150, n_jobs=-1, nthread=None,\n",
      "       objective='binary:logistic', random_state=42, reg_alpha=0.15,\n",
      "       reg_lambda=0.25, scale_pos_weight=1, seed=None, silent=1,\n",
      "       subsample=1.0)\n",
      "{'colsample_bytree': 0.75, 'gamma': 0.2, 'learning_rate': 0.05, 'max_depth': 4, 'min_child_weight': 5, 'reg_alpha': 0.15, 'reg_lambda': 0.25, 'silent': 1, 'subsample': 1.0}\n",
      "0.432885\n",
      "CPU times: user 6.58 s, sys: 58.9 ms, total: 6.64 s\n",
      "Wall time: 21.9 s\n"
     ]
    }
   ],
   "source": [
    "%%time\n",
    "\n",
    "XGB_params = {\n",
    "      'learning_rate':    np.linspace(0.05, 1, 1), # 0.03 to 0.2, tuned to 0.05\n",
    "      'min_child_weight': np.linspace(5, 10, 1, dtype=int),  # 1 to 6, tuned to 2\n",
    "      'max_depth':        np.linspace(4, 8, 1, dtype=int), # 3 to 10, tuned to 3\n",
    "      'gamma':            np.linspace(0.2, 0.4, 1), # 0 to 0.4, tuned to 0\n",
    "      'subsample':        np.linspace(1, 1, 1),   # 0.6 to 1, tuned to 1.0\n",
    "      'colsample_bytree': np.linspace(0.75, 1, 1), # 0.6 to 1, tuned to 0.6\n",
    "      'reg_lambda':       np.linspace(0.25, 0.6, 1),   # 0 to 1, tuned to 1.0\n",
    "      'reg_alpha':        np.linspace(0.15, 0.5, 1),  # 0 to 1, tuned to 0.5\n",
    "      'silent':           [1,],\n",
    "}\n",
    "\n",
    "\n",
    "train = trains[0].copy()\n",
    "test = tests[0].copy()\n",
    "fraction = 0.05\n",
    "if fraction < 1:\n",
    "    train = train.sample(frac=fraction, random_state=seed)\n",
    "    test  =  test.sample(frac=fraction*4, random_state=seed)\n",
    "print(train.shape, test.shape)\n",
    "X_train, y_train, X_test= prep_train_test(train, test)\n",
    "print(X_train.shape, y_train.shape, X_test.shape)\n",
    "\n",
    "tune_cv=False #     perform CV just to get number of boost rounds/estimators before using GridSearchCV\n",
    "if tune_cv:\n",
    "    xgtrain = xgb.DMatrix(X_train, label=y_train)\n",
    "    cvresult = xgb.cv(objective=binary:logistic, learning_rate=0.05,min_child_weight=5, max_depth=4, gamma=0.2, \n",
    "                      subsample=1.0, colsample_bytree=0.75, reg_lambda=0.25, reg_alpha=0.15, silent=1, \n",
    "                      xgtrain, num_boost_round=1000, early_stopping_rounds=50, nfold=10, \n",
    "                      metrics='logloss', verbose_eval=10, show_stdv=False)\n",
    "else:\n",
    "    XGBbase = xgb.XGBClassifier(n_estimators=150, objective= 'binary:logistic', random_state=seed, n_jobs=-1)\n",
    "    XGBmodel = GridSearchCV(XGBbase, cv=10, n_jobs=-1, param_grid=XGB_params, scoring='neg_log_loss' ,verbose=5)\n",
    "    _ = XGBmodel.fit(X_train, y_train)\n",
    "    print(XGBmodel.best_estimator_)\n",
    "    print(XGBmodel.best_params_)\n",
    "    print(-round(XGBmodel.best_score_,6))\n",
    "    \n",
    "# fig, ax = plt.subplots(1,1,figsize=(16,26))\n",
    "# _ = xgb.plot_importance(model, ax=ax)"
   ]
  },
  {
   "cell_type": "markdown",
   "metadata": {},
   "source": [
    "# BELOW HERE IS MISC STUFF"
   ]
  },
  {
   "cell_type": "code",
   "execution_count": 101,
   "metadata": {},
   "outputs": [],
   "source": [
    "# rejected models\n",
    "#     KNeighborsClassifier(500), #  tuned on 5% of data\n",
    "#     SVC(gamma='auto', C=1, probability=True, random_state=seed), # quite slow\n",
    "#     DecisionTreeClassifier(max_depth=2, random_state=seed),\n",
    "#     RandomForestClassifier(n_estimators=300, random_state=seed), \n",
    "#     AdaBoostClassifier(random_state=seed),\n",
    "#     GaussianNB(),\n",
    "#     LinearDiscriminantAnalysis(),"
   ]
  },
  {
   "cell_type": "code",
   "execution_count": 40,
   "metadata": {
    "scrolled": false
   },
   "outputs": [
    {
     "name": "stderr",
     "output_type": "stream",
     "text": [
      "/Users/graham/anaconda3/lib/python3.6/site-packages/ipykernel_launcher.py:3: FutureWarning: Using a non-tuple sequence for multidimensional indexing is deprecated; use `arr[tuple(seq)]` instead of `arr[seq]`. In the future this will be interpreted as an array index, `arr[np.array(seq)]`, which will result either in an error or a different result.\n",
      "  This is separate from the ipykernel package so we can avoid doing imports until\n"
     ]
    },
    {
     "data": {
      "text/html": [
       "<div>\n",
       "<style scoped>\n",
       "    .dataframe tbody tr th:only-of-type {\n",
       "        vertical-align: middle;\n",
       "    }\n",
       "\n",
       "    .dataframe tbody tr th {\n",
       "        vertical-align: top;\n",
       "    }\n",
       "\n",
       "    .dataframe thead th {\n",
       "        text-align: right;\n",
       "    }\n",
       "</style>\n",
       "<table border=\"1\" class=\"dataframe\">\n",
       "  <thead>\n",
       "    <tr style=\"text-align: right;\">\n",
       "      <th></th>\n",
       "      <th>installment</th>\n",
       "      <th>loan_amnt</th>\n",
       "      <th>open_acc</th>\n",
       "      <th>pub_rec</th>\n",
       "      <th>pub_rec_bankruptcies</th>\n",
       "      <th>total_acc</th>\n",
       "    </tr>\n",
       "  </thead>\n",
       "  <tbody>\n",
       "    <tr>\n",
       "      <th>installment</th>\n",
       "      <td>NaN</td>\n",
       "      <td>0.953484</td>\n",
       "      <td>NaN</td>\n",
       "      <td>NaN</td>\n",
       "      <td>NaN</td>\n",
       "      <td>NaN</td>\n",
       "    </tr>\n",
       "    <tr>\n",
       "      <th>loan_amnt</th>\n",
       "      <td>0.953484</td>\n",
       "      <td>NaN</td>\n",
       "      <td>NaN</td>\n",
       "      <td>NaN</td>\n",
       "      <td>NaN</td>\n",
       "      <td>NaN</td>\n",
       "    </tr>\n",
       "    <tr>\n",
       "      <th>open_acc</th>\n",
       "      <td>NaN</td>\n",
       "      <td>NaN</td>\n",
       "      <td>NaN</td>\n",
       "      <td>NaN</td>\n",
       "      <td>NaN</td>\n",
       "      <td>0.691259</td>\n",
       "    </tr>\n",
       "    <tr>\n",
       "      <th>pub_rec</th>\n",
       "      <td>NaN</td>\n",
       "      <td>NaN</td>\n",
       "      <td>NaN</td>\n",
       "      <td>NaN</td>\n",
       "      <td>0.666228</td>\n",
       "      <td>NaN</td>\n",
       "    </tr>\n",
       "    <tr>\n",
       "      <th>pub_rec_bankruptcies</th>\n",
       "      <td>NaN</td>\n",
       "      <td>NaN</td>\n",
       "      <td>NaN</td>\n",
       "      <td>0.666228</td>\n",
       "      <td>NaN</td>\n",
       "      <td>NaN</td>\n",
       "    </tr>\n",
       "    <tr>\n",
       "      <th>total_acc</th>\n",
       "      <td>NaN</td>\n",
       "      <td>NaN</td>\n",
       "      <td>0.691259</td>\n",
       "      <td>NaN</td>\n",
       "      <td>NaN</td>\n",
       "      <td>NaN</td>\n",
       "    </tr>\n",
       "  </tbody>\n",
       "</table>\n",
       "</div>"
      ],
      "text/plain": [
       "                      installment  loan_amnt  open_acc   pub_rec  pub_rec_bankruptcies  total_acc\n",
       "installment                   NaN   0.953484       NaN       NaN                   NaN        NaN\n",
       "loan_amnt                0.953484        NaN       NaN       NaN                   NaN        NaN\n",
       "open_acc                      NaN        NaN       NaN       NaN                   NaN   0.691259\n",
       "pub_rec                       NaN        NaN       NaN       NaN              0.666228        NaN\n",
       "pub_rec_bankruptcies          NaN        NaN       NaN  0.666228                   NaN        NaN\n",
       "total_acc                     NaN        NaN  0.691259       NaN                   NaN        NaN"
      ]
     },
     "execution_count": 40,
     "metadata": {},
     "output_type": "execute_result"
    }
   ],
   "source": [
    "temp = X_train.corr()\n",
    "temp = temp[temp>0.50]\n",
    "temp.values[[np.arange(len(temp.columns))]*2] = np.NaN\n",
    "temp = temp.dropna(how='all', axis=0)\n",
    "temp = temp.dropna(how='all', axis=1)\n",
    "temp"
   ]
  },
  {
   "cell_type": "code",
   "execution_count": 19,
   "metadata": {},
   "outputs": [
    {
     "name": "stdout",
     "output_type": "stream",
     "text": [
      "Created mysubmission1.txt, rows= 10128 , Model= GradientBoostingClassifier\n",
      "Created mysubmission2.txt, rows= 10128 , Model= GradientBoostingClassifier\n",
      "Created mysubmission3.txt, rows= 10128 , Model= GradientBoostingClassifier\n"
     ]
    }
   ],
   "source": [
    "m1 = models[-1]\n",
    "df = pd.DataFrame({'id': test.id, 'prob': probs.round(11)})\n",
    "df.to_csv('mysubmission1.txt', index=False)\n",
    "print('Created mysubmission1.txt, rows=', df.shape[0], ', Model=', type(m1).__name__) \n",
    "\n",
    "m2 = models[-1]\n",
    "df = pd.DataFrame({'id': test.id, 'prob': probs.round(11)})\n",
    "df.to_csv('mysubmission2.txt', index=False)\n",
    "print('Created mysubmission2.txt, rows=', df.shape[0], ', Model=', type(m2).__name__) \n",
    "\n",
    "m3 = models[-1]\n",
    "df = pd.DataFrame({'id': test.id, 'prob': probs.round(11)})\n",
    "df.to_csv('mysubmission3.txt', index=False)\n",
    "print('Created mysubmission3.txt, rows=', df.shape[0], ', Model=', type(m3).__name__) "
   ]
  },
  {
   "cell_type": "markdown",
   "metadata": {},
   "source": [
    "## consolidation checking"
   ]
  },
  {
   "cell_type": "code",
   "execution_count": null,
   "metadata": {},
   "outputs": [],
   "source": [
    "%%time\n",
    "loans['emp_title'] = loans.emp_title.fillna('_unknown').str.lower()\n",
    "loans['emp_title1'] = categorise_emp_title(loans.emp_title)\n",
    "loans['default'] = (loans.loan_status!='Fully Paid').astype(int)\n",
    "g1 = loans.groupby(['emp_title','emp_title1'])['default'].agg(['sum','count'])\n",
    "g1.columns = ['sum1','count1']\n",
    "g1['rate1'] = g1['sum1'] / g1['count1']\n",
    "g1 = g1.sort_values(\"rate1\", ascending=False)"
   ]
  },
  {
   "cell_type": "markdown",
   "metadata": {},
   "source": [
    "## Create Two Predictions  files from test.csv"
   ]
  },
  {
   "cell_type": "code",
   "execution_count": 24,
   "metadata": {
    "scrolled": false
   },
   "outputs": [
    {
     "data": {
      "image/png": "[encoded data removed]",
      "text/plain": [
       "<Figure size 1152x504 with 1 Axes>"
      ]
     },
     "metadata": {},
     "output_type": "display_data"
    }
   ],
   "source": [
    "features = X_train.columns\n",
    "importances = model.feature_importances_\n",
    "indices = np.argsort(importances*-1)\n",
    "num_features = 40\n",
    "indices = indices[0:num_features]\n",
    "_ = plt.figure(figsize=(16,7))\n",
    "_ = plt.title('XGBoost: Most Important Features')\n",
    "_ = plt.bar(range(len(indices)), importances[indices], color='steelblue')\n",
    "_ = plt.xticks(range(len(indices)), [features[i] for i in indices], rotation=85, fontsize = 14)\n",
    "_ = plt.ylabel('Relative Importance')\n",
    "_ = plt.xlim(-1,num_features-1)\n",
    "_ = plt.tight_layout()\n",
    "_ = plt.savefig('features.png',dpi=100)"
   ]
  },
  {
   "cell_type": "code",
   "execution_count": null,
   "metadata": {},
   "outputs": [],
   "source": [
    "np.random.seed(seed)\n",
    "\n",
    "# TRAIN LASSO MODEL AND GENERATE SUBMISSION FILE\n",
    "model = ElasticNet(alpha=0.001, l1_ratio=0.4, max_iter=5000, tol=0.0001, random_state=seed),\n",
    "_ = model.fit(X_train, y_train)\n",
    "XGBpreds = model.predict(X_test)\n",
    "XGB_df = pd.DataFrame({'PID': y_test.index, 'Sale_Price': np.expm1(XGBpreds).round(1)})\n",
    "XGB_df.to_csv('mysubmission1.txt', index=False)\n",
    "print('Created mysubmission1.txt, rows=', XGB_df.shape[0], \n",
    "      ', Model=', type(model).__name__, ', RMSElogPrice =', round( rmse(y_test, XGBpreds),6 ))\n",
    "\n",
    "# TRAIN GBM MODEL AND GENERATE SUBMISSION FILE\n",
    "model = GradientBoostingRegressor(learning_rate=0.03, n_estimators=550, max_depth=5, min_samples_split=4,\n",
    "            min_samples_leaf=3, min_weight_fraction_leaf=0, subsample=0.64, max_features='sqrt', random_state=seed)\n",
    "_ = model.fit(X_train, y_train)\n",
    "ENet_preds = model.predict(X_test)\n",
    "ENet_df = pd.DataFrame({'PID': y_test.index, 'Sale_Price': np.expm1(ENet_preds).round(1)})\n",
    "ENet_df.to_csv('mysubmission2.txt', index=False)\n",
    "print('Created mysubmission2.txt, rows=', XGB_df.shape[0], \n",
    "      ', Model=', type(model).__name__, ', RMSElogPrice =', round( rmse(y_test, ENet_preds),6 ))\n",
    "\n",
    "# RE-READ SUBMISSION FILES AND CHECK FOR CORRECTNESS\n",
    "temp = pd.read_csv('mysubmission1.txt')\n",
    "print('\\nChecking mysubmission1 file, RMSE=', round(rmse(np.log1p(temp.Sale_Price), y_test.values),6) )\n",
    "temp = pd.read_csv('mysubmission2.txt')\n",
    "print('Checking mysubmission2 file, RMSE=', round(rmse(np.log1p(temp.Sale_Price), y_test.values),6) )\n"
   ]
  },
  {
   "cell_type": "markdown",
   "metadata": {},
   "source": [
    "**loan_amnt**: could round by 100 to 500 as categorical (NO IMPROVE)\n",
    "\n",
    "**term**: ok as-is, two values and categorical (object)\n",
    "\n",
    "**int_rate**: could round by 0.1 to 0.5 as categorical, Note: 629 values, 5.31 to 30.99 (TINY IMPROVE)\n",
    "\n",
    "**installment**: could try log transform but unlikely, Note lots of values from 4.93 to 1714.54\n",
    "\n",
    "**grade**: ok as-is, 7 values categorical\n",
    "\n",
    "**sub_grade**: ok as-is, 35 values categorical\n",
    "\n",
    "**emp_title**: emp_title.fillna('unknown').lower() - tuning or consolidation didnt help results\n",
    "\n",
    "**emp_length**: emp_length.fillna('unknown'), otherwise ok as-is, 11 values categorical\n",
    "\n",
    "**home_ownership**: ok as-is, 6 values categorical\n",
    "\n",
    "**annual_inc**: Note: 0 to 9,550,000, could try log1p transform but probably ok as-is\n",
    "\n",
    "**verification_status**: ok as-is, 3 values categorical\n",
    "\n",
    "**loan_status**: On train only: (train.loan_status != 'Fully Paid').astype(int)\n",
    "\n",
    "**purpose**: ok as-is 14 values categorical\n",
    "\n",
    "**title**: title.fillna('Unknown').lower() - tuning or consolidation didnt help results\n",
    "\n",
    "**zip_code**: ok as-is, consolidation made it worse\n",
    "\n",
    "**addr_state**: ok as-is, 51 values categorical\n",
    "\n",
    "**dti**: is a ratio of debt payment to income, Note: 5362 values from -1 to 999 (only 1 is negative)\n",
    "\n",
    "**earliest_cr_line**: maybe convert to an integer, currently mon-yyyy, from apr-1955 to sep-2014\n",
    "\n",
    "**fico_range_low**: ok as-is, integer from 625 to 845 in steps of 5 (40 values)\n",
    "\n",
    "**fico_range_high**: ok as-is, integer from 629 to 850 in steps of 5 (40 values)\n",
    "\n",
    "**open_acc**: ok as-is, integer from 0 to 90, 78 values, but some are rare so could consolidate infreq values\n",
    "\n",
    "**pub_rec**: ok as-is, integer from 0 to 86, 30 values, but some are rare so could consolidate infreq values\n",
    "\n",
    "**revol_bal**: ok as-is, float from 0 to 2,568,995, could try log1p transform\n",
    "\n",
    "**revol_util**: data.revol_util.fillna(0 or 9999), otherwise ok as-is, 1319 values from 0 to 892.3\n",
    "\n",
    "**total_acc**: ok as-is, 133 values from 2 to 176\n",
    "\n",
    "**initial_list_status**: ok as-is, categorical 2 values\n",
    "\n",
    "**application_type:** ok as-is, categorical 2 values\n",
    "\n",
    "**mort_acc**: data.mort_acc.fillna(0 or 9999), otherwise ok. 38 values from 0 to 51\n",
    "\n",
    "**pub_rec_bankruptcies**: data.pub_rec_bankruptcies.fillna(0 or 999) 10 values from 0 to 12"
   ]
  }
 ],
 "metadata": {
  "kernelspec": {
   "display_name": "Python 3",
   "language": "python",
   "name": "python3"
  },
  "language_info": {
   "codemirror_mode": {
    "name": "ipython",
    "version": 3
   },
   "file_extension": ".py",
   "mimetype": "text/x-python",
   "name": "python",
   "nbconvert_exporter": "python",
   "pygments_lexer": "ipython3",
   "version": "3.6.6"
  }
 },
 "nbformat": 4,
 "nbformat_minor": 2
}
